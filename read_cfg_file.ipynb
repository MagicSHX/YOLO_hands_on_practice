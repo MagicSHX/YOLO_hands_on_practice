{
 "cells": [
  {
   "cell_type": "code",
   "execution_count": 77,
   "metadata": {},
   "outputs": [],
   "source": [
    "import os\n",
    "from __future__ import division\n",
    "\n",
    "import torch \n",
    "import torch.nn as nn\n",
    "import torch.nn.functional as F \n",
    "from torch.autograd import Variable\n",
    "import numpy as np\n",
    "\n",
    "cfgfile = \"C:/Users/HX/Desktop/yolov4.cfg\"\n",
    "\n",
    "def read_cfg_file(cfgfile):\n",
    "    file = open(cfgfile, 'r')\n",
    "    lines = file.read().split('\\n')\n",
    "\n",
    "    layer_type = []\n",
    "    layer_details = []\n",
    "    current_layer_details = {}\n",
    "    for line in lines:\n",
    "        #print(line)\n",
    "        if line == '':\n",
    "            continue\n",
    "        elif line[0] == '#':\n",
    "            continue\n",
    "        else:\n",
    "            if (line[0] == '['):\n",
    "                layer_type.append(line[1 : -1])\n",
    "                if current_layer_details != {}:\n",
    "                    layer_details.append(current_layer_details)\n",
    "                    current_layer_details = {}\n",
    "            else:\n",
    "                current_layer_details.update([(line.split(\"=\")[0].rstrip(), line.split(\"=\")[1].lstrip())])\n",
    "    layer_details.append(current_layer_details)\n",
    "    return layer_type, layer_details\n",
    "\n",
    " "
   ]
  },
  {
   "cell_type": "code",
   "execution_count": 78,
   "metadata": {},
   "outputs": [],
   "source": [
    "class Mish(torch.nn.Module):\n",
    "    def __init__(self):\n",
    "        super().__init__()\n",
    "\n",
    "    def forward(self, x):\n",
    "        x = x * torch.tanh(F.softplus(x))\n",
    "        return x\n",
    "\n",
    "class Conv_Layer_box(nn.Module):\n",
    "    def __init__(self, in_channel, out_channel, kernel_size, stride, activation_func, batch_normalization):\n",
    "        super().__init__()\n",
    "        padding = (int((kernel_size - 1)/2), int((kernel_size - 1)/2))\n",
    "        \n",
    "        dict_activation_func = {\"ReLU\": nn.ReLU(inplace=True),\n",
    "                                \"Leaky\": nn.LeakyReLU(0.1, inplace=True),\n",
    "                                \"mish\": Mish()\n",
    "                               }\n",
    "        \n",
    "        if batch_normalization == True:\n",
    "            bias = False\n",
    "        else:\n",
    "            bias = True\n",
    "        self.conv_box = nn.ModuleList()\n",
    "        self.conv_box.append(nn.Conv2d(in_channel, out_channel, kernel_size = kernel_size, stride = stride, padding = padding, bias = bias))\n",
    "        if batch_normalization == True:\n",
    "            self.conv_box.append(nn.BatchNorm2d(out_channel))\n",
    "        self.conv_box.append(dict_activation_func[activation_func])\n",
    "        \n",
    "    def forward(self, x):\n",
    "        for layer in self.conv_box:\n",
    "            x = layer(x)\n",
    "        return x"
   ]
  },
  {
   "cell_type": "code",
   "execution_count": 79,
   "metadata": {},
   "outputs": [
    {
     "name": "stdout",
     "output_type": "stream",
     "text": [
      "163\n",
      "163\n",
      "{'batch_normalize': '1', 'filters': '32', 'size': '3', 'stride': '1', 'pad': '1', 'activation': 'mish'}\n"
     ]
    }
   ],
   "source": [
    "layer_type, layer_details = read_cfg_file(cfgfile)\n",
    "\n",
    "layer_type\n",
    "layer_details\n",
    "\n",
    "print(len(layer_type))\n",
    "print(len(layer_details))\n",
    "print(layer_details[1])"
   ]
  },
  {
   "cell_type": "code",
   "execution_count": 80,
   "metadata": {},
   "outputs": [
    {
     "name": "stdout",
     "output_type": "stream",
     "text": [
      "{'batch_normalize': '1', 'filters': '32', 'size': '3', 'stride': '1', 'pad': '1', 'activation': 'mish'}\n",
      "Conv_Layer_box(\n",
      "  (conv_box): ModuleList(\n",
      "    (0): Conv2d(3, 32, kernel_size=(3, 3), stride=(1, 1), padding=(1, 1), bias=False)\n",
      "    (1): BatchNorm2d(32, eps=1e-05, momentum=0.1, affine=True, track_running_stats=True)\n",
      "    (2): Mish()\n",
      "  )\n",
      ")\n",
      "{'batch_normalize': '1', 'filters': '64', 'size': '3', 'stride': '2', 'pad': '1', 'activation': 'mish'}\n",
      "Conv_Layer_box(\n",
      "  (conv_box): ModuleList(\n",
      "    (0): Conv2d(32, 64, kernel_size=(3, 3), stride=(2, 2), padding=(1, 1), bias=False)\n",
      "    (1): BatchNorm2d(64, eps=1e-05, momentum=0.1, affine=True, track_running_stats=True)\n",
      "    (2): Mish()\n",
      "  )\n",
      ")\n",
      "{'batch_normalize': '1', 'filters': '64', 'size': '1', 'stride': '1', 'pad': '1', 'activation': 'mish'}\n",
      "Conv_Layer_box(\n",
      "  (conv_box): ModuleList(\n",
      "    (0): Conv2d(64, 64, kernel_size=(1, 1), stride=(1, 1), bias=False)\n",
      "    (1): BatchNorm2d(64, eps=1e-05, momentum=0.1, affine=True, track_running_stats=True)\n",
      "    (2): Mish()\n",
      "  )\n",
      ")\n",
      "{'batch_normalize': '1', 'filters': '64', 'size': '1', 'stride': '1', 'pad': '1', 'activation': 'mish'}\n"
     ]
    },
    {
     "ename": "KeyError",
     "evalue": "'filters'",
     "output_type": "error",
     "traceback": [
      "\u001b[1;31m---------------------------------------------------------------------------\u001b[0m",
      "\u001b[1;31mKeyError\u001b[0m                                  Traceback (most recent call last)",
      "\u001b[1;32m<ipython-input-80-8c03c9197dcc>\u001b[0m in \u001b[0;36m<module>\u001b[1;34m\u001b[0m\n\u001b[0;32m     11\u001b[0m         \u001b[1;32melse\u001b[0m\u001b[1;33m:\u001b[0m\u001b[1;33m\u001b[0m\u001b[1;33m\u001b[0m\u001b[0m\n\u001b[0;32m     12\u001b[0m             \u001b[1;31m#need a function here, to find last layer output channel\u001b[0m\u001b[1;33m\u001b[0m\u001b[1;33m\u001b[0m\u001b[1;33m\u001b[0m\u001b[0m\n\u001b[1;32m---> 13\u001b[1;33m             \u001b[0min_channel\u001b[0m \u001b[1;33m=\u001b[0m \u001b[0mint\u001b[0m\u001b[1;33m(\u001b[0m\u001b[0mlayer_details\u001b[0m\u001b[1;33m[\u001b[0m\u001b[0mi\u001b[0m \u001b[1;33m-\u001b[0m \u001b[1;36m1\u001b[0m\u001b[1;33m]\u001b[0m\u001b[1;33m[\u001b[0m\u001b[1;34m'filters'\u001b[0m\u001b[1;33m]\u001b[0m\u001b[1;33m)\u001b[0m\u001b[1;33m\u001b[0m\u001b[1;33m\u001b[0m\u001b[0m\n\u001b[0m\u001b[0;32m     14\u001b[0m         \u001b[0mout_channel\u001b[0m \u001b[1;33m=\u001b[0m \u001b[0mint\u001b[0m\u001b[1;33m(\u001b[0m\u001b[0mlayer_details\u001b[0m\u001b[1;33m[\u001b[0m\u001b[0mi\u001b[0m\u001b[1;33m]\u001b[0m\u001b[1;33m[\u001b[0m\u001b[1;34m'filters'\u001b[0m\u001b[1;33m]\u001b[0m\u001b[1;33m)\u001b[0m\u001b[1;33m\u001b[0m\u001b[1;33m\u001b[0m\u001b[0m\n\u001b[0;32m     15\u001b[0m         \u001b[0mkernel_size\u001b[0m \u001b[1;33m=\u001b[0m \u001b[0mint\u001b[0m\u001b[1;33m(\u001b[0m\u001b[0mlayer_details\u001b[0m\u001b[1;33m[\u001b[0m\u001b[0mi\u001b[0m\u001b[1;33m]\u001b[0m\u001b[1;33m[\u001b[0m\u001b[1;34m'size'\u001b[0m\u001b[1;33m]\u001b[0m\u001b[1;33m)\u001b[0m\u001b[1;33m\u001b[0m\u001b[1;33m\u001b[0m\u001b[0m\n",
      "\u001b[1;31mKeyError\u001b[0m: 'filters'"
     ]
    }
   ],
   "source": [
    "for i in range(len(layer_type)):\n",
    "    if layer_type[i] == 'convolutional':\n",
    "        print(layer_details[i])\n",
    "        # there should be a exception handling\n",
    "        if int(layer_details[i]['batch_normalize']) == 1:\n",
    "            batch_normalize = True\n",
    "        else:\n",
    "            batch_normalize = False\n",
    "        if i == 1:\n",
    "            in_channel = 3\n",
    "        else:\n",
    "            #need a function here, to find last layer output channel\n",
    "            in_channel = int(layer_details[i - 1]['filters'])\n",
    "        out_channel = int(layer_details[i]['filters'])\n",
    "        kernel_size = int(layer_details[i]['size'])\n",
    "        stride = int(layer_details[i]['stride'])\n",
    "        pad = int(layer_details[i]['pad'])\n",
    "        activation_func = layer_details[i]['activation']\n",
    "        \n",
    "        layer = Conv_Layer_box(in_channel, out_channel, kernel_size, stride, activation_func, batch_normalize)\n",
    "        print(layer)\n",
    "    elif layer_type[i] == 'maxpool':\n",
    "        continue\n",
    "    elif layer_type[i] == 'upsample':\n",
    "        continue\n",
    "    elif layer_type[i] == 'yolo':\n",
    "        continue\n",
    "    elif layer_type[i] == 'shortcut':\n",
    "        continue\n",
    "    elif layer_type[i] == 'route':\n",
    "        continue\n",
    "    elif layer_type[i] == 'net':\n",
    "        continue"
   ]
  },
  {
   "cell_type": "code",
   "execution_count": null,
   "metadata": {},
   "outputs": [],
   "source": [
    "class YOLO_v4_model(nn.Module):\n",
    "    def __init__(self):\n",
    "        super().__init__()\n",
    "        self.YOLO_v4_layers = nn.ModuleList()\n",
    "        \n",
    "            self.YOLO_v4_layers.append(Conv_Layer_box(in_channel[i], out_channel[i], kernel_size= kernel_size[i], stride = stride[i], activation_func = activation_func[i], batch_normalization = batch_normalization[i]))\n",
    "    "
   ]
  }
 ],
 "metadata": {
  "kernelspec": {
   "display_name": "Python 3",
   "language": "python",
   "name": "python3"
  },
  "language_info": {
   "codemirror_mode": {
    "name": "ipython",
    "version": 3
   },
   "file_extension": ".py",
   "mimetype": "text/x-python",
   "name": "python",
   "nbconvert_exporter": "python",
   "pygments_lexer": "ipython3",
   "version": "3.8.3"
  }
 },
 "nbformat": 4,
 "nbformat_minor": 4
}
