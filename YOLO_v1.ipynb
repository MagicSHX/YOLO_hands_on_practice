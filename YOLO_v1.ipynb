{
 "cells": [
  {
   "cell_type": "code",
   "execution_count": 1,
   "metadata": {},
   "outputs": [
    {
     "name": "stdout",
     "output_type": "stream",
     "text": [
      "0.4.1\n"
     ]
    }
   ],
   "source": [
    "import gzip\n",
    "import pandas as pd\n",
    "import numpy as np\n",
    "from mnist import MNIST\n",
    "import torch\n",
    "from torch import nn\n",
    "import copy\n",
    "import torch.optim as optim\n",
    "import torch.nn.functional as F"
   ]
  },
  {
   "cell_type": "code",
   "execution_count": 2,
   "metadata": {},
   "outputs": [
    {
     "ename": "SyntaxError",
     "evalue": "invalid syntax (<ipython-input-2-797575925262>, line 14)",
     "output_type": "error",
     "traceback": [
      "\u001b[1;36m  File \u001b[1;32m\"<ipython-input-2-797575925262>\"\u001b[1;36m, line \u001b[1;32m14\u001b[0m\n\u001b[1;33m    self.conv_layer_4 = nn.Conv2d(, , kernel_size=)\u001b[0m\n\u001b[1;37m                                  ^\u001b[0m\n\u001b[1;31mSyntaxError\u001b[0m\u001b[1;31m:\u001b[0m invalid syntax\n"
     ]
    }
   ],
   "source": [
    "class YOLO_v1(nn.module):\n",
    "    def __init__(self, input_size, output_size):\n",
    "        super(YOLO_v3, self),__init()\n",
    "        self.input_size = input_size\n",
    "        self.output_size = output_size\n",
    "        \n",
    "        self.layer_1 = nn.Sequential(\n",
    "            nn.Conv2d(3, 64, kernel_size=7, stride=2),\n",
    "            nn.MaxPool2d(kernel_size=2, stride=2))\n",
    "        self.layer_2 = nn.Sequential(\n",
    "            nn.Conv2d(64, 192, kernel_size=3, stride=2),\n",
    "            nn.MaxPool2d(kernel_size=2, stride=2))\n",
    "        self.conv_layer_3 = nn.Conv2d(64, 192, kernel_size=3)\n",
    "        self.conv_layer_4 = nn.Conv2d(, , kernel_size=)\n",
    "        self.conv_layer_5 = nn.Conv2d(, , kernel_size=)\n",
    "        self.layer_6 = nn.Sequential(\n",
    "            nn.Conv2d(192, 128, kernel_size=3, stride=2),\n",
    "            nn.MaxPool2d(kernel_size=2, stride=2))\n",
    "        \n",
    "        self.conv_layer_7 = nn.Conv2d(128, 256, kernel_size=1)\n",
    "        self.conv_layer_8 = nn.Conv2d(256, 256, kernel_size=3)\n",
    "        self.conv_layer_9 = nn.Conv2d(256, 512, kernel_size=1)\n",
    "        self.conv_layer_10 = nn.Conv2d(512, 256, kernel_size=3)\n",
    "        self.conv_layer_11 = nn.Conv2d(256, 512, kernel_size=1)\n",
    "        self.conv_layer_12 = nn.Conv2d(512, 256, kernel_size=3)\n",
    "        self.conv_layer_13 = nn.Conv2d(256, 256, kernel_size=1)\n",
    "        self.conv_layer_14 = nn.Conv2d(256, 512, kernel_size=3)\n",
    "        self.conv_layer_15 = nn.Conv2d(512, 512, kernel_size=1)\n",
    "        self.layer_16 = nn.Sequential(\n",
    "            nn.Conv2d(512, 1024, kernel_size=3),\n",
    "            nn.MaxPool2d(kernel_size=2, stride=2))\n",
    "        self.conv_layer_17 = nn.Conv2d(1024, 512, kernel_size=1)\n",
    "        self.conv_layer_18 = nn.Conv2d(512, 1024, kernel_size=3)\n",
    "        self.conv_layer_19 = nn.Conv2d(1024, 512, kernel_size=1)\n",
    "        self.conv_layer_20 = nn.Conv2d(512, 1024, kernel_size=3)\n",
    "        self.conv_layer_21 = nn.Conv2d(1024, 1024, kernel_size=3)\n",
    "        self.conv_layer_22 = nn.Conv2d(1024, 1024, kernel_size=3, stride=2)\n",
    "        self.conv_layer_23 = nn.Conv2d(1024, 1024, kernel_size=3)\n",
    "        self.conv_layer_24 = nn.Conv2d(1024, 1024, kernel_size=3)\n",
    "        \n",
    "        self.fc1 = nn.Linear(7 * 7 * 1024, 4096)\n",
    "        self.fc2 = nn.Linear(4096, 7 * 7 * 30)\n",
    "    def forward(self, x):\n",
    "        out = self.layer_1(x)\n",
    "        out = self.layer_2(out)\n",
    "        out = self.conv_layer_3(out)\n",
    "        out = self.conv_layer_4(out)\n",
    "        out = self.conv_layer_5(out)\n",
    "        out = self.layer_6(out)\n",
    "        out = self.conv_layer_7(out)\n",
    "        out = self.conv_layer_8(out)\n",
    "        out = self.conv_layer_9(out)\n",
    "        out = self.conv_layer_10(out)\n",
    "        out = self.conv_layer_11(out)\n",
    "        out = self.conv_layer_12(out)\n",
    "        out = self.conv_layer_13(out)\n",
    "        out = self.conv_layer_14(out)\n",
    "        out = self.conv_layer_15(out)\n",
    "        out = self.layer_16(out)\n",
    "        out = self.conv_layer_17(out)\n",
    "        out = self.conv_layer_18(out)\n",
    "        out = self.conv_layer_19(out)\n",
    "        out = self.conv_layer_20(out)\n",
    "        out = self.conv_layer_21(out)\n",
    "        out = self.conv_layer_22(out)\n",
    "        out = self.conv_layer_23(out)\n",
    "        out = self.conv_layer_24(out)\n",
    "        \n",
    "        out = out.reshape(out.size(0), -1)\n",
    "        out = out.fc1(out)\n",
    "        out = out.fc2(out)\n",
    "        return out"
   ]
  }
 ],
 "metadata": {
  "kernelspec": {
   "display_name": "Python 3",
   "language": "python",
   "name": "python3"
  },
  "language_info": {
   "codemirror_mode": {
    "name": "ipython",
    "version": 3
   },
   "file_extension": ".py",
   "mimetype": "text/x-python",
   "name": "python",
   "nbconvert_exporter": "python",
   "pygments_lexer": "ipython3",
   "version": "3.8.3"
  }
 },
 "nbformat": 4,
 "nbformat_minor": 2
}
